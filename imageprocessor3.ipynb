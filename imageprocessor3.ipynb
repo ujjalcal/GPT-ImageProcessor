{
  "nbformat": 4,
  "nbformat_minor": 0,
  "metadata": {
    "colab": {
      "provenance": [],
      "toc_visible": true
    },
    "kernelspec": {
      "name": "python3",
      "display_name": "Python 3"
    },
    "language_info": {
      "name": "python"
    }
  },
  "cells": [
    {
      "cell_type": "markdown",
      "source": [
        "## Summary\n",
        "\n",
        "Simple service which reads images from google and use openai 4o vision to summarize the content.\n"
      ],
      "metadata": {
        "id": "YNbmt3SLzGUw"
      }
    },
    {
      "cell_type": "markdown",
      "source": [
        "# Iniiat Setup\n",
        "\n",
        "OpenAI API KEY\n",
        "1. goto https://platform.openai.com/settings/organization/api-keys and generate a key\n",
        "2. create a file named .env in local file system\n",
        "3. Update the file with the details below\n",
        "  OPENAI_API_KEY = <<apikey from open ai>>\n",
        "\n",
        "**Google Cloud Console**\n",
        "1. Create / Reuse a project\n",
        "2. Goto API Lib - https://console.cloud.google.com/apis/librar\n",
        "3. Search and Enable specific APIs\n",
        "4. Goto APIs Credentials - https://console.cloud.google.com/apis/credentials\n",
        "5. Create a Serivice Account  - https://console.cloud.google.com/iam-admin/serviceaccounts\n",
        "6. Download the service account details as a json file.\n",
        "7. upload to colab and place it at the root folder, name it gcp-key.json\n",
        "\n"
      ],
      "metadata": {
        "id": "UQ9hZR-kwmR8"
      }
    },
    {
      "cell_type": "code",
      "source": [
        "!pip install openai\n",
        "!pip install google-auth google-auth-oauthlib google-auth-httplib2 google-api-python-client\n",
        "!pip install python-dotenv"
      ],
      "metadata": {
        "id": "eAvjKD6mtL-F"
      },
      "execution_count": null,
      "outputs": []
    },
    {
      "cell_type": "markdown",
      "source": [
        "## Import and Load Env valirables"
      ],
      "metadata": {
        "id": "3J75cFslwUo_"
      }
    },
    {
      "cell_type": "code",
      "source": [
        "import os\n",
        "import dotenv\n",
        "\n",
        "from openai import OpenAI\n",
        "from dotenv import load_dotenv\n",
        "\n",
        "load_dotenv()\n",
        "\n"
      ],
      "metadata": {
        "id": "0iejoew1Yhgf"
      },
      "execution_count": null,
      "outputs": []
    },
    {
      "cell_type": "markdown",
      "source": [
        "## Initilize OpenAI and Google"
      ],
      "metadata": {
        "id": "q6DHxMIXvtCZ"
      }
    },
    {
      "cell_type": "code",
      "source": [
        "# OpenAI\n",
        "openAIKey = os.environ[\"OPENAI_API_KEY\"]\n",
        "\n",
        "#Google\n",
        "from google.oauth2 import service_account\n",
        "from googleapiclient.discovery import build\n",
        "\n",
        "# Google Drive\n",
        "SCOPES = ['https://www.googleapis.com/auth/drive.readonly']\n",
        "SERVICE_ACCOUNT_FILE = '/content/gcp-key.json'  # Update with your JSON key file path\n"
      ],
      "metadata": {
        "id": "JXtSI5rVbe4L"
      },
      "execution_count": null,
      "outputs": []
    },
    {
      "cell_type": "markdown",
      "source": [
        "## Print all the files in the shared folder"
      ],
      "metadata": {
        "id": "ZCQEvp6Sv0uw"
      }
    },
    {
      "cell_type": "code",
      "execution_count": null,
      "metadata": {
        "id": "esqeC8m_Yah7"
      },
      "outputs": [],
      "source": [
        "\n",
        "# Authenticate using the service account\n",
        "creds = service_account.Credentials.from_service_account_file(\n",
        "    SERVICE_ACCOUNT_FILE, scopes=SCOPES)\n",
        "\n",
        "# Build the Drive API service\n",
        "service = build('drive', 'v3', credentials=creds)\n",
        "\n",
        "# The folder ID from your shared folder URL\n",
        "folder_id = '1jpX0N0sdIejjDAGt4D4y5bLA-RYK3dcO'\n",
        "\n",
        "# Create a query to list files in the folder\n",
        "query = f\"'{folder_id}' in parents\"\n",
        "\n",
        "# Call the Drive API to list files in the folder, including webViewLink\n",
        "results = service.files().list(q=query,fields=\"nextPageToken, files(id, name, webViewLink)\").execute()\n",
        "items = results.get('files', [])\n",
        "\n",
        "# Print file names and URLs (optional)\n",
        "if not items:\n",
        "    print('No files found.')\n",
        "else:\n",
        "    print('Files found in the folder:')\n",
        "    for item in items:\n",
        "        print(f\"File Name: {item['name']}, URL: https://drive.google.com/uc?export=view&id={item['id']}\")"
      ]
    },
    {
      "cell_type": "markdown",
      "source": [
        "## Analyze one file at a time"
      ],
      "metadata": {
        "id": "XhbdqAdcv7n_"
      }
    },
    {
      "cell_type": "code",
      "source": [
        "# Initialize your OpenAI client\n",
        "client = OpenAI()\n",
        "\n",
        "# File to store the responses\n",
        "output_file = \"openai_responses.txt\"\n",
        "\n",
        "# Assuming 'items' is obtained from Section 1\n",
        "for item in items:\n",
        "    image_url = f\"https://drive.google.com/uc?export=view&id={item['id']}\"\n",
        "\n",
        "    # Build and send the request to OpenAI's API\n",
        "    response = client.chat.completions.create(\n",
        "        model=\"gpt-4o\",\n",
        "        messages=[\n",
        "            {\n",
        "                \"role\": \"user\",\n",
        "                \"content\": [\n",
        "                    {\"type\": \"text\", \"text\": \"This is a screenshot from Andrej Krapathy youtube channel teaching LLM. Identify important concepts shown in the image. summarize\"},\n",
        "                    {\n",
        "                        \"type\": \"image_url\",\n",
        "                        \"image_url\": {\n",
        "                            \"url\": image_url,\n",
        "                        },\n",
        "                    },\n",
        "                ],\n",
        "            }\n",
        "        ],\n",
        "        max_tokens=300,\n",
        "    )\n",
        "\n",
        "    # Append the response to the file\n",
        "    with open(output_file, \"a\") as f:  # \"a\" mode for appending\n",
        "        f.write(response.choices[0].message.content + \"\\n\")\n",
        "\n",
        "    print(response.choices[0].message.content) # Optional: Print to console as well\n",
        "\n"
      ],
      "metadata": {
        "id": "mSZFsm5NaYWy"
      },
      "execution_count": null,
      "outputs": []
    }
  ]
}